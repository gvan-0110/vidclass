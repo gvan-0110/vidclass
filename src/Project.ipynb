{
  "nbformat": 4,
  "nbformat_minor": 0,
  "metadata": {
    "colab": {
      "name": "Experiment.ipynb",
      "provenance": []
    },
    "kernelspec": {
      "name": "python3",
      "display_name": "Python 3"
    },
    "language_info": {
      "name": "python"
    }
  },
  "cells": [
    {
      "cell_type": "code",
      "execution_count": null,
      "metadata": {
        "id": "GFcekeCtzTqQ"
      },
      "outputs": [],
      "source": [
        "!pip install numpy\n",
        "!pip install opencv-python\n",
        "!pip install tensorflow\n",
        "!pip install matplotlib"
      ]
    },
    {
      "cell_type": "markdown",
      "source": [
        "# **TODO!**\n",
        "\n",
        "1.   Async data formatting functions for color and content frames to prevent ram crashing\n",
        "2.   Make data loading function sort frames in correct sequential order by file name\n",
        "\n"
      ],
      "metadata": {
        "id": "RF-oexAU3lmm"
      }
    },
    {
      "cell_type": "code",
      "source": [
        "# Load API's needed for program\n",
        "\n",
        "import tensorflow as tf\n",
        "from tensorflow.keras import datasets, layers, models\n",
        "import matplotlib.pyplot as plt\n",
        "import numpy as np\n",
        "import cv2\n",
        "import glob, os\n",
        "import random\n",
        "import shutil\n",
        "\n",
        "# Variables used throughout program\n",
        "average_frame_size = (144, 256, 3)\n",
        "categories_to_make = [\"frog\", \"dog\", \"log\"]\n",
        "colors = {}\n",
        "\n",
        "# Designate which color circle will be displayed in each categories test images\n",
        "for category_type in categories_to_make:\n",
        "  color = (random.randint(0, 255), random.randint(0, 255), random.randint(0, 255))\n",
        "  colors[category_type] = color"
      ],
      "metadata": {
        "id": "gKconxSQ0dcy"
      },
      "execution_count": null,
      "outputs": []
    },
    {
      "cell_type": "code",
      "source": [
        "# Plot function to display images for testing\n",
        "def plotImage(image):\n",
        "  plt.figure(figsize = (15,2))\n",
        "  plt.imshow(image)"
      ],
      "metadata": {
        "id": "ZPvqznUxMXW1"
      },
      "execution_count": null,
      "outputs": []
    },
    {
      "cell_type": "code",
      "source": [
        "# Function to generate unique image data for each category\n",
        "def get_image_from_category(category_type):\n",
        "  pre_image = np.random.randint(0, 255, average_frame_size)\n",
        "  location = (random.randint(1, 256), random.randint(1, 144))\n",
        "  radius = random.randint(10, 60)\n",
        "  return cv2.circle(pre_image, location, radius, colors[category_type], -1)"
      ],
      "metadata": {
        "id": "vhdBTMqB5N9u"
      },
      "execution_count": null,
      "outputs": []
    },
    {
      "cell_type": "markdown",
      "source": [
        "# Generate data for training\n",
        "\n",
        "Code is split in order to allow recreating subdirectories when necessary"
      ],
      "metadata": {
        "id": "KtCjcOj5868W"
      }
    },
    {
      "cell_type": "code",
      "source": [
        "# Generate data folder\n",
        "path = \".\"\n",
        "shutil.rmtree(\"./data\")\n",
        "os.mkdir(path + \"/data\")"
      ],
      "metadata": {
        "id": "K_8i8Z4bEsQl"
      },
      "execution_count": null,
      "outputs": []
    },
    {
      "cell_type": "code",
      "source": [
        "# Generate catergory folders\n",
        "path2 = \"./data\"\n",
        "for folders in next(os.walk(path2))[1]:\n",
        "  shutil.rmtree(path2 + \"/\" + folders)\n",
        "for category_type in categories_to_make:\n",
        "  os.mkdir(path2 + \"/\" + category_type)"
      ],
      "metadata": {
        "id": "aKroyh_rFJ6m"
      },
      "execution_count": null,
      "outputs": []
    },
    {
      "cell_type": "code",
      "source": [
        "# Generate video folders and video frames\n",
        "path3 = \"./data\"\n",
        "\n",
        "categories = next(os.walk(path3))[1]\n",
        "for category in categories:\n",
        "    for folder in next(os.walk(path3 + \"/\" + category))[1]:\n",
        "      shutil.rmtree(path3 + \"/\" + category + \"/\" + folder)\n",
        "    for amount in range(random.randint(50, 100)):\n",
        "      os.mkdir(path3 + \"/\" + category + \"/video\" + str(random.randint(1, 2000000)))\n",
        "    video_titles = next(os.walk(path3 + \"/\" + category))[1]\n",
        "    for video in video_titles:\n",
        "      path_to_folder = path3 + \"/\" + category + \"/\" + video\n",
        "      print(path_to_folder)\n",
        "      for index in range(random.randint(7, 10)):\n",
        "        test_image = get_image_from_category(category)\n",
        "        cv2.imwrite((path_to_folder + \"/\" + str(index) + \".png\"), test_image)"
      ],
      "metadata": {
        "id": "gfVEhQ4yFhYK"
      },
      "execution_count": null,
      "outputs": []
    },
    {
      "cell_type": "markdown",
      "source": [
        "# Load training data from directory"
      ],
      "metadata": {
        "id": "XGoHrR0J_r8T"
      }
    },
    {
      "cell_type": "code",
      "source": [
        "# Load actual data from file path\n",
        "\n",
        "# Folder structure should be:\n",
        "# Level 1 : names of categories as folder name -> timelapse animation frogs ... etc\n",
        "# Level 2 : name of video as folder name -> frog_in_sun dogs_jumping ... etc\n",
        "# Level 3 : frames as png with sequential numbering as name -> 1 2 3 4 ... 10\n",
        "\n",
        "def loadData(file_path_to_folders):\n",
        "  '''Video data returns a tuple, the first element is the loaded frames\n",
        "    The second element is a list of the categories as strings\n",
        "\n",
        "    The loaded frames data is formatted as a dictionary, values are as follows:\n",
        "    {category_type : [[video1_frames], [video2_frames], ...], category2_type : [...], ...}\n",
        "    video_data[0][\"timelapse\"][2][3] gives the third timelapse video's 4th frame\n",
        "  '''\n",
        "\n",
        "  categories = next(os.walk(file_path_to_folders))[1]\n",
        "  video_categories = {}\n",
        "\n",
        "  for category in categories:\n",
        "    video_categories[category] = []\n",
        "    video_titles = next(os.walk(file_path_to_folders + \"/\" + category))[1]\n",
        "\n",
        "    for video_title in video_titles:\n",
        "      final_path = file_path_to_folders + \"/\" + category + \"/\" + video_title + \"/\"\n",
        "      video_frames = []\n",
        "\n",
        "      for image in glob.glob(final_path + \"*.png\"):\n",
        "        frame = cv2.imread(image)\n",
        "        if frame.shape != average_frame_size:\n",
        "          frame = cv2.resize(frame, (144, 256))\n",
        "        video_frames.append(frame)\n",
        "\n",
        "      video_categories[category].append(video_frames)\n",
        "\n",
        "  return (video_categories, categories)"
      ],
      "metadata": {
        "id": "pJu1uz98-huu"
      },
      "execution_count": null,
      "outputs": []
    },
    {
      "cell_type": "code",
      "source": [
        "'''Test loading of data using load function'''\n",
        "\n",
        "# Video data returns a tuple, the first element is the loaded frames\n",
        "# The second element is a list of the categories as strings\n",
        "\n",
        "# The loaded frames data is formatted as a dictionary, values are as follows:\n",
        "# {category_type : [[video1_frames], [video2_frames], ...], category2_type : [...], ...}\n",
        "# video_data[0][\"timelapse\"][2][3] gives the third timelapse video's 4th frame\n",
        "video_data = loadData('./data')\n",
        "print(\"Videos within each category : \\n\")\n",
        "for key in video_data[0].keys():\n",
        "  print(key + \" : \" + str(len(video_data[0][key])))\n",
        "\n",
        "print(\"\\nFirst frame in first video within\", video_data[1][0], \"category : \")\n",
        "image = video_data[0][(video_data[1][0])][1][5]\n",
        "plotImage(image)"
      ],
      "metadata": {
        "colab": {
          "base_uri": "https://localhost:8080/",
          "height": 281
        },
        "id": "iWexH5RLhKbq",
        "outputId": "b0e004c5-d748-4854-8ddb-83355b2294e5"
      },
      "execution_count": null,
      "outputs": [
        {
          "output_type": "stream",
          "name": "stdout",
          "text": [
            "Videos within each category : \n",
            "\n",
            "frog : 93\n",
            "dog : 68\n",
            "log : 87\n",
            "\n",
            "First frame in first video within frog category : \n"
          ]
        },
        {
          "output_type": "display_data",
          "data": {
            "text/plain": [
              "<Figure size 1080x144 with 1 Axes>"
            ],
            "image/png": "[encoded data removed]"
          },
          "metadata": {
            "needs_background": "light"
          }
        }
      ]
    },
    {
      "cell_type": "markdown",
      "source": [
        "# Functions used for average color network data formatting"
      ],
      "metadata": {
        "id": "RC1EIvrX7PsQ"
      }
    },
    {
      "cell_type": "code",
      "source": [
        "# Average all frames selected in video into a single image\n",
        "def averageFrames(frames):\n",
        "  frameAmount = len(frames)\n",
        "  averageFrame = np.zeros(average_frame_size)\n",
        "  for frame in frames:\n",
        "    averageFrame = averageFrame + frame\n",
        "  averageFrame = averageFrame / frameAmount\n",
        "  return averageFrame\n",
        "\n",
        "# Normalize image for input\n",
        "def normalizeFrame(frame):\n",
        "  return (frame / 255)"
      ],
      "metadata": {
        "id": "C8XbFZ0n1OUE"
      },
      "execution_count": null,
      "outputs": []
    },
    {
      "cell_type": "markdown",
      "source": [
        "# Functions used for content network data formatting"
      ],
      "metadata": {
        "id": "jRHiNFJtiw7l"
      }
    },
    {
      "cell_type": "code",
      "source": [
        "def differentiateFrames(frames):\n",
        "  frameAmount = len(frames)\n",
        "  newFrames = []\n",
        "  if frameAmount == 1:\n",
        "    return frames\n",
        "  for index, frame in enumerate(frames):\n",
        "    if(index + 1 >= frameAmount):\n",
        "      return newFrames\n",
        "    frameCurrent = frame\n",
        "    frameNext = frames[index + 1]\n",
        "    frameDifference = frameCurrent - frameNext\n",
        "    newFrames.append(normalizeFrame(frameDifference))"
      ],
      "metadata": {
        "id": "gHXHQuNJizog"
      },
      "execution_count": null,
      "outputs": []
    },
    {
      "cell_type": "markdown",
      "source": [
        "Format data loaded for the two networks :"
      ],
      "metadata": {
        "id": "QeBeGnZNi0nd"
      }
    },
    {
      "cell_type": "code",
      "source": [
        "data_from_videos = loadData('./data')\n",
        "categories = data_from_videos[1]\n",
        "frame_data = data_from_videos[0]\n",
        "\n",
        "totalFrames = 0\n",
        "totalVideos = 0\n",
        "\n",
        "for category in categories:\n",
        "  for video in frame_data[category]:\n",
        "    totalVideos = totalVideos + 1\n",
        "    totalFrames = totalFrames + len(video)\n",
        "\n",
        "print(\"Total Videos : \" , str(totalVideos) , \" , Total Frames : \" , str(totalFrames))\n",
        "\n",
        "# Average frame data\n",
        "# {category1 : [list_of_images_from_each_video], category2 : ..., ...}\n",
        "average_frames = {}\n",
        "for category in categories:\n",
        "  average_frames[category] = []\n",
        "  for video in frame_data[category]:\n",
        "    average_frames[category].append(normalizeFrame(averageFrames(video)))\n",
        "\n",
        "# Difference frame data\n",
        "# {category1 : [[video1_frames], [video2_frames]], category2 : ..., ...}\n",
        "differentiated_frames = {}\n",
        "for category in categories:\n",
        "  differentiated_frames[category] = []\n",
        "  for video in frame_data[category]:\n",
        "    differentiated_frames[category].append(differentiateFrames(video))"
      ],
      "metadata": {
        "colab": {
          "base_uri": "https://localhost:8080/"
        },
        "id": "9YC_-SRXi56d",
        "outputId": "234ac31d-da98-4ecd-f077-68cddc295119"
      },
      "execution_count": null,
      "outputs": [
        {
          "output_type": "stream",
          "name": "stdout",
          "text": [
            "Total Videos :  248  , Total Frames :  2106\n"
          ]
        }
      ]
    },
    {
      "cell_type": "markdown",
      "source": [
        "# Create models for both networks"
      ],
      "metadata": {
        "id": "4tQuAzV5p2Ku"
      }
    },
    {
      "cell_type": "code",
      "source": [
        "color_model = models.Sequential([\n",
        "    layers.Conv2D(filters=32, kernel_size=(3, 3), activation='relu', input_shape=average_frame_size),\n",
        "    layers.MaxPooling2D((2, 2)),\n",
        "    \n",
        "    layers.Conv2D(filters=64, kernel_size=(3, 3), activation='relu'),\n",
        "    layers.MaxPooling2D((2, 2)),\n",
        "    \n",
        "    layers.Flatten(),\n",
        "    layers.Dense(64, activation='relu'),\n",
        "    layers.Dense(len(categories), activation='softmax')\n",
        "])"
      ],
      "metadata": {
        "id": "mhiSZtnEp6-t"
      },
      "execution_count": null,
      "outputs": []
    },
    {
      "cell_type": "code",
      "source": [
        "content_model = models.Sequential([\n",
        "    layers.Conv2D(filters=32, kernel_size=(3, 3), activation='relu', input_shape=average_frame_size),\n",
        "    layers.MaxPooling2D((2, 2)),\n",
        "    \n",
        "    layers.Conv2D(filters=64, kernel_size=(3, 3), activation='relu'),\n",
        "    layers.MaxPooling2D((2, 2)),\n",
        "    \n",
        "    layers.Flatten(),\n",
        "    layers.Dense(64, activation='relu'),\n",
        "    layers.Dense(len(categories), activation='softmax')\n",
        "])"
      ],
      "metadata": {
        "id": "_qsy-NOAqCm2"
      },
      "execution_count": null,
      "outputs": []
    },
    {
      "cell_type": "code",
      "source": [
        "color_model.compile(optimizer='adam',\n",
        "              loss='sparse_categorical_crossentropy',\n",
        "              metrics=['accuracy'])"
      ],
      "metadata": {
        "id": "zjrT6pJGq1k7"
      },
      "execution_count": null,
      "outputs": []
    },
    {
      "cell_type": "code",
      "source": [
        "content_model.compile(optimizer='adam',\n",
        "              loss='sparse_categorical_crossentropy',\n",
        "              metrics=['accuracy'])"
      ],
      "metadata": {
        "id": "P40QfqaAq4iZ"
      },
      "execution_count": null,
      "outputs": []
    },
    {
      "cell_type": "markdown",
      "source": [
        "# Format data information into model usable variables"
      ],
      "metadata": {
        "id": "v8n9QGBc_44s"
      }
    },
    {
      "cell_type": "code",
      "source": [
        "# Create int key values for categories\n",
        "categories_int = {}\n",
        "int_categories = {}\n",
        "for index, category in enumerate(categories):\n",
        "  categories_int[category] = index\n",
        "  int_categories[index] = category\n",
        "\n",
        "print(categories_int)\n",
        "print(int_categories)"
      ],
      "metadata": {
        "colab": {
          "base_uri": "https://localhost:8080/"
        },
        "id": "47Sn1u_6sca6",
        "outputId": "7e02c1ac-7ae1-4cc9-80da-8044f7ac4f83"
      },
      "execution_count": null,
      "outputs": [
        {
          "output_type": "stream",
          "name": "stdout",
          "text": [
            "{'frog': 0, 'dog': 1, 'log': 2}\n",
            "{0: 'frog', 1: 'dog', 2: 'log'}\n"
          ]
        }
      ]
    },
    {
      "cell_type": "code",
      "source": [
        "# format data for color model in x and y dimensions\n",
        "x_color_train = []\n",
        "y_color_train = []\n",
        "x_color_test = []\n",
        "y_color_test = []\n",
        "\n",
        "for category in categories_int.keys():\n",
        "  for frame in average_frames[category]:\n",
        "    x_color_train.append(frame)\n",
        "    y_color_train.append(categories_int[category])\n",
        "\n",
        "x_color_train = np.asarray(x_color_train)\n",
        "y_color_train = np.asarray(y_color_train)\n",
        "x_color_test = np.asarray(x_color_test)\n",
        "y_color_test = np.asarray(y_color_test)"
      ],
      "metadata": {
        "id": "vthQsQMEr1Cm"
      },
      "execution_count": null,
      "outputs": []
    },
    {
      "cell_type": "code",
      "source": [
        "# format data for content model in x and y dimensions\n",
        "x_content_train = []\n",
        "y_content_train = []\n",
        "x_content_test = []\n",
        "y_content_test = []\n",
        "\n",
        "for category in categories_int.keys():\n",
        "  for video in differentiated_frames[category]:\n",
        "    for frame in video:\n",
        "      x_content_train.append(frame)\n",
        "      y_content_train.append(categories_int[category])\n",
        "\n",
        "x_content_train = np.asarray(x_content_train)\n",
        "y_content_train = np.asarray(y_content_train)\n",
        "x_content_test = np.asarray(x_content_test)\n",
        "y_content_test = np.asarray(y_content_test)\n",
        "\n",
        "print(x_content_train.shape)\n",
        "print(y_content_train.shape)"
      ],
      "metadata": {
        "colab": {
          "base_uri": "https://localhost:8080/"
        },
        "id": "wS_-m_YAsD_r",
        "outputId": "8034b9b4-9211-4a8c-95b1-dac3a7c9fa21"
      },
      "execution_count": null,
      "outputs": [
        {
          "output_type": "stream",
          "name": "stdout",
          "text": [
            "(1858, 144, 256, 3)\n",
            "(1858,)\n"
          ]
        }
      ]
    },
    {
      "cell_type": "markdown",
      "source": [
        "# Train models and get accuracy"
      ],
      "metadata": {
        "id": "iGJyfs2oABtt"
      }
    },
    {
      "cell_type": "code",
      "source": [
        "color_model.fit(x_color_train, y_color_train, epochs=20)"
      ],
      "metadata": {
        "colab": {
          "base_uri": "https://localhost:8080/"
        },
        "id": "3OIrmPKzwRLS",
        "outputId": "56bd8bdd-f564-414d-f457-638ee926d5f8"
      },
      "execution_count": 52,
      "outputs": [
        {
          "output_type": "stream",
          "name": "stdout",
          "text": [
            "Epoch 1/20\n",
            "8/8 [==============================] - 11s 1s/step - loss: 0.3416 - accuracy: 0.9032\n",
            "Epoch 2/20\n",
            "8/8 [==============================] - 11s 1s/step - loss: 0.3707 - accuracy: 0.8911\n",
            "Epoch 3/20\n",
            "8/8 [==============================] - 11s 1s/step - loss: 0.2964 - accuracy: 0.9476\n",
            "Epoch 4/20\n",
            "8/8 [==============================] - 11s 1s/step - loss: 0.1755 - accuracy: 0.9758\n",
            "Epoch 5/20\n",
            "8/8 [==============================] - 11s 1s/step - loss: 0.1249 - accuracy: 0.9879\n",
            "Epoch 6/20\n",
            "8/8 [==============================] - 11s 1s/step - loss: 0.0896 - accuracy: 0.9839\n",
            "Epoch 7/20\n",
            "8/8 [==============================] - 11s 1s/step - loss: 0.1012 - accuracy: 0.9637\n",
            "Epoch 8/20\n",
            "8/8 [==============================] - 11s 1s/step - loss: 0.0835 - accuracy: 0.9718\n",
            "Epoch 9/20\n",
            "8/8 [==============================] - 11s 1s/step - loss: 0.0734 - accuracy: 0.9879\n",
            "Epoch 10/20\n",
            "8/8 [==============================] - 11s 1s/step - loss: 0.1036 - accuracy: 0.9597\n",
            "Epoch 11/20\n",
            "8/8 [==============================] - 11s 1s/step - loss: 0.0518 - accuracy: 0.9960\n",
            "Epoch 12/20\n",
            "8/8 [==============================] - 11s 1s/step - loss: 0.0328 - accuracy: 0.9960\n",
            "Epoch 13/20\n",
            "8/8 [==============================] - 11s 1s/step - loss: 0.0313 - accuracy: 0.9960\n",
            "Epoch 14/20\n",
            "8/8 [==============================] - 11s 1s/step - loss: 0.0232 - accuracy: 0.9960\n",
            "Epoch 15/20\n",
            "8/8 [==============================] - 11s 1s/step - loss: 0.0139 - accuracy: 1.0000\n",
            "Epoch 16/20\n",
            "8/8 [==============================] - 11s 1s/step - loss: 0.0111 - accuracy: 1.0000\n",
            "Epoch 17/20\n",
            "8/8 [==============================] - 11s 1s/step - loss: 0.0101 - accuracy: 1.0000\n",
            "Epoch 18/20\n",
            "8/8 [==============================] - 11s 1s/step - loss: 0.0055 - accuracy: 1.0000\n",
            "Epoch 19/20\n",
            "8/8 [==============================] - 11s 1s/step - loss: 0.0039 - accuracy: 1.0000\n",
            "Epoch 20/20\n",
            "8/8 [==============================] - 11s 1s/step - loss: 0.0034 - accuracy: 1.0000\n"
          ]
        },
        {
          "output_type": "execute_result",
          "data": {
            "text/plain": [
              "<keras.callbacks.History at 0x7f1ad14a0e90>"
            ]
          },
          "metadata": {},
          "execution_count": 52
        }
      ]
    },
    {
      "cell_type": "code",
      "source": [
        "content_model.fit(x_content_train, y_content_train, epochs=20)"
      ],
      "metadata": {
        "colab": {
          "base_uri": "https://localhost:8080/"
        },
        "id": "-aM4qKR-wZze",
        "outputId": "d27cbcbc-f0a6-4c76-83f6-23c9edc3b81a"
      },
      "execution_count": 51,
      "outputs": [
        {
          "output_type": "stream",
          "name": "stdout",
          "text": [
            "Epoch 1/20\n",
            "59/59 [==============================] - 85s 1s/step - loss: 0.7929 - accuracy: 0.5457\n",
            "Epoch 2/20\n",
            "59/59 [==============================] - 83s 1s/step - loss: 0.8170 - accuracy: 0.5484\n",
            "Epoch 3/20\n",
            "59/59 [==============================] - 82s 1s/step - loss: 0.8142 - accuracy: 0.5393\n",
            "Epoch 4/20\n",
            "59/59 [==============================] - 82s 1s/step - loss: 0.7979 - accuracy: 0.5425\n",
            "Epoch 5/20\n",
            "59/59 [==============================] - 82s 1s/step - loss: 0.7914 - accuracy: 0.5463\n",
            "Epoch 6/20\n",
            "59/59 [==============================] - 80s 1s/step - loss: 0.7785 - accuracy: 0.5791\n",
            "Epoch 7/20\n",
            "59/59 [==============================] - 80s 1s/step - loss: 0.7941 - accuracy: 0.5463\n",
            "Epoch 8/20\n",
            "59/59 [==============================] - 79s 1s/step - loss: 0.7921 - accuracy: 0.5398\n",
            "Epoch 9/20\n",
            "59/59 [==============================] - 80s 1s/step - loss: 0.8063 - accuracy: 0.5495\n",
            "Epoch 10/20\n",
            "59/59 [==============================] - 81s 1s/step - loss: 0.7943 - accuracy: 0.5818\n",
            "Epoch 11/20\n",
            "59/59 [==============================] - 82s 1s/step - loss: 0.7857 - accuracy: 0.5651\n",
            "Epoch 12/20\n",
            "59/59 [==============================] - 83s 1s/step - loss: 0.7674 - accuracy: 0.5931\n",
            "Epoch 13/20\n",
            "59/59 [==============================] - 82s 1s/step - loss: 0.7909 - accuracy: 0.5404\n",
            "Epoch 14/20\n",
            "59/59 [==============================] - 82s 1s/step - loss: 0.7781 - accuracy: 0.5436\n",
            "Epoch 15/20\n",
            "59/59 [==============================] - 82s 1s/step - loss: 0.7817 - accuracy: 0.5850\n",
            "Epoch 16/20\n",
            "59/59 [==============================] - 82s 1s/step - loss: 0.7259 - accuracy: 0.6437\n",
            "Epoch 17/20\n",
            "59/59 [==============================] - 82s 1s/step - loss: 0.6033 - accuracy: 0.7594\n",
            "Epoch 18/20\n",
            "59/59 [==============================] - 82s 1s/step - loss: 0.4343 - accuracy: 0.8391\n",
            "Epoch 19/20\n",
            "59/59 [==============================] - 83s 1s/step - loss: 0.2725 - accuracy: 0.9128\n",
            "Epoch 20/20\n",
            "59/59 [==============================] - 82s 1s/step - loss: 0.1643 - accuracy: 0.9677\n"
          ]
        },
        {
          "output_type": "execute_result",
          "data": {
            "text/plain": [
              "<keras.callbacks.History at 0x7f1ad14a7cd0>"
            ]
          },
          "metadata": {},
          "execution_count": 51
        }
      ]
    }
  ]
}